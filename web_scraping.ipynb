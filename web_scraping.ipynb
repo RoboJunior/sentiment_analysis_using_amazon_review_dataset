{
 "cells": [
  {
   "cell_type": "code",
   "execution_count": 47,
   "id": "f8e0ce2f",
   "metadata": {},
   "outputs": [
    {
     "name": "stdout",
     "output_type": "stream",
     "text": [
      "amd \n",
      "14000\n"
     ]
    }
   ],
   "source": [
    "gr_name = []\n",
    "_gr_name = []\n",
    "gr_price = []\n",
    "_gr_price = []\n",
    "import pandas as pd\n",
    "import requests\n",
    "from bs4 import BeautifulSoup\n",
    "user = input().lower()\n",
    "user_price = int(input())\n",
    "for i in range(20):\n",
    "    url = \"https://www.flipkart.com/search?q=graphics+card&sid=6bo%2Cg0i%2C6sn&as=on&as-show=on&otracker=AS_QueryStore_OrganicAutoSuggest_2_3_na_na_na&otracker1=AS_QueryStore_OrganicAutoSuggest_2_3_na_na_na&as-pos=2&as-type=HISTORY&suggestionId=graphics+card%7CGraphic+Cards&requestId=e40e2208-3a1f-4f7b-8942-3d80e9fc5a8e&page=\"+str(i)\n",
    "    req = requests.get(url)\n",
    "    content = BeautifulSoup(req.content,'html.parser')\n",
    "    name = content.find_all(\"a\",{\"class\" : 's1Q9rs'})\n",
    "    price = content.find_all(\"div\",{\"class\":\"_30jeq3\"})\n",
    "    for i in name:\n",
    "        gr_name.append(i.text.lower())\n",
    "    for i in price:\n",
    "        gr_price.append(i.text.replace('₹','').replace(',',''))\n",
    "        gr_price_=[eval(i) for i in gr_price]\n",
    "    graphics_card = dict(zip(gr_name,gr_price_))\n",
    "    for k,v in graphics_card.items():\n",
    "        if user in k and user_price>=v:\n",
    "            _gr_name.append(k)\n",
    "            _gr_price.append(v)\n",
    "\n",
    "df = pd.DataFrame(list(zip(_gr_name,_gr_price)),columns=[\"Graphics_card_name\",\"Graphics_card_price\"])"
   ]
  },
  {
   "cell_type": "code",
   "execution_count": 48,
   "id": "63109d33",
   "metadata": {},
   "outputs": [
    {
     "data": {
      "text/html": [
       "<div>\n",
       "<style scoped>\n",
       "    .dataframe tbody tr th:only-of-type {\n",
       "        vertical-align: middle;\n",
       "    }\n",
       "\n",
       "    .dataframe tbody tr th {\n",
       "        vertical-align: top;\n",
       "    }\n",
       "\n",
       "    .dataframe thead th {\n",
       "        text-align: right;\n",
       "    }\n",
       "</style>\n",
       "<table border=\"1\" class=\"dataframe\">\n",
       "  <thead>\n",
       "    <tr style=\"text-align: right;\">\n",
       "      <th></th>\n",
       "      <th>Graphics_card_name</th>\n",
       "      <th>Graphics_card_price</th>\n",
       "    </tr>\n",
       "  </thead>\n",
       "  <tbody>\n",
       "    <tr>\n",
       "      <th>0</th>\n",
       "      <td>asus amd radeon dual rx 6400 4 gb gddr6 graphi...</td>\n",
       "      <td>10439</td>\n",
       "    </tr>\n",
       "    <tr>\n",
       "      <th>1</th>\n",
       "      <td>msi amd radeon radeon rx 6500 xt mech 2x 4g oc...</td>\n",
       "      <td>12999</td>\n",
       "    </tr>\n",
       "    <tr>\n",
       "      <th>2</th>\n",
       "      <td>sapphire amd radeon radeon rx 550 4 gb gddr5 g...</td>\n",
       "      <td>7699</td>\n",
       "    </tr>\n",
       "    <tr>\n",
       "      <th>3</th>\n",
       "      <td>asus amd radeon ph-rx550-4g-evo 4 gb gddr5 gra...</td>\n",
       "      <td>7999</td>\n",
       "    </tr>\n",
       "    <tr>\n",
       "      <th>4</th>\n",
       "      <td>sapphire amd radeon radeon rx 6400 4 gb gddr6 ...</td>\n",
       "      <td>10439</td>\n",
       "    </tr>\n",
       "    <tr>\n",
       "      <th>...</th>\n",
       "      <td>...</td>\n",
       "      <td>...</td>\n",
       "    </tr>\n",
       "    <tr>\n",
       "      <th>253</th>\n",
       "      <td>amd amd radeon sapphire pulse radeon™ rx 6800 ...</td>\n",
       "      <td>2550</td>\n",
       "    </tr>\n",
       "    <tr>\n",
       "      <th>254</th>\n",
       "      <td>msi amd radeon rx 6700 xt 12 gb gddr6 graphics...</td>\n",
       "      <td>13999</td>\n",
       "    </tr>\n",
       "    <tr>\n",
       "      <th>255</th>\n",
       "      <td>amd amd radeon sapphire pulse radeon rx 6500 x...</td>\n",
       "      <td>7999</td>\n",
       "    </tr>\n",
       "    <tr>\n",
       "      <th>256</th>\n",
       "      <td>msi amd radeon radeon rx 6600 xt mech 2x 8g oc...</td>\n",
       "      <td>389</td>\n",
       "    </tr>\n",
       "    <tr>\n",
       "      <th>257</th>\n",
       "      <td>selito amd radeon rx 580 8 gb gddr5 graphics card</td>\n",
       "      <td>1069</td>\n",
       "    </tr>\n",
       "  </tbody>\n",
       "</table>\n",
       "<p>258 rows × 2 columns</p>\n",
       "</div>"
      ],
      "text/plain": [
       "                                    Graphics_card_name  Graphics_card_price\n",
       "0    asus amd radeon dual rx 6400 4 gb gddr6 graphi...                10439\n",
       "1    msi amd radeon radeon rx 6500 xt mech 2x 4g oc...                12999\n",
       "2    sapphire amd radeon radeon rx 550 4 gb gddr5 g...                 7699\n",
       "3    asus amd radeon ph-rx550-4g-evo 4 gb gddr5 gra...                 7999\n",
       "4    sapphire amd radeon radeon rx 6400 4 gb gddr6 ...                10439\n",
       "..                                                 ...                  ...\n",
       "253  amd amd radeon sapphire pulse radeon™ rx 6800 ...                 2550\n",
       "254  msi amd radeon rx 6700 xt 12 gb gddr6 graphics...                13999\n",
       "255  amd amd radeon sapphire pulse radeon rx 6500 x...                 7999\n",
       "256  msi amd radeon radeon rx 6600 xt mech 2x 8g oc...                  389\n",
       "257  selito amd radeon rx 580 8 gb gddr5 graphics card                 1069\n",
       "\n",
       "[258 rows x 2 columns]"
      ]
     },
     "execution_count": 48,
     "metadata": {},
     "output_type": "execute_result"
    }
   ],
   "source": [
    "df "
   ]
  },
  {
   "cell_type": "code",
   "execution_count": 46,
   "id": "80143754",
   "metadata": {},
   "outputs": [
    {
     "name": "stdout",
     "output_type": "stream",
     "text": [
      "\n"
     ]
    }
   ],
   "source": []
  },
  {
   "cell_type": "code",
   "execution_count": 45,
   "id": "3f1117cf",
   "metadata": {},
   "outputs": [
    {
     "name": "stdout",
     "output_type": "stream",
     "text": [
      "\n"
     ]
    }
   ],
   "source": []
  },
  {
   "cell_type": "code",
   "execution_count": null,
   "id": "a41aa429",
   "metadata": {},
   "outputs": [],
   "source": []
  }
 ],
 "metadata": {
  "kernelspec": {
   "display_name": "Python 3 (ipykernel)",
   "language": "python",
   "name": "python3"
  },
  "language_info": {
   "codemirror_mode": {
    "name": "ipython",
    "version": 3
   },
   "file_extension": ".py",
   "mimetype": "text/x-python",
   "name": "python",
   "nbconvert_exporter": "python",
   "pygments_lexer": "ipython3",
   "version": "3.11.2"
  }
 },
 "nbformat": 4,
 "nbformat_minor": 5
}
